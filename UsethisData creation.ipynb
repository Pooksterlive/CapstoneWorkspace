{
 "cells": [
  {
   "cell_type": "code",
   "execution_count": 2,
   "id": "951883cd",
   "metadata": {},
   "outputs": [],
   "source": [
    "import pandas as pd\n",
    "import numpy as np\n",
    "import os\n"
   ]
  },
  {
   "cell_type": "code",
   "execution_count": 3,
   "id": "985356b8",
   "metadata": {},
   "outputs": [],
   "source": [
    "#Use this file path for pc\n",
    "#filepath = r\"D:\\gradschool\\Capstone\\CapstoneWorkSpace6\\UseThisData\"\n",
    "#Use this file path for mac \n",
    "filepath = r\"/Users/jacksonjoyner/Desktop/MSBA/Capstone/UseThisData/\"\n",
    "os.chdir(filepath)"
   ]
  },
  {
   "cell_type": "code",
   "execution_count": 15,
   "id": "6cea1521",
   "metadata": {},
   "outputs": [],
   "source": [
    "files = []\n",
    "location = os.listdir(filepath)\n",
    "for item in location:\n",
    "    files.append(item)\n",
    "files.remove(\".Rhistory\")"
   ]
  },
  {
   "cell_type": "code",
   "execution_count": 22,
   "id": "e0f9933c",
   "metadata": {},
   "outputs": [
    {
     "name": "stdout",
     "output_type": "stream",
     "text": [
      "made player\n",
      "made player\n",
      "made team\n",
      "made team\n",
      "made player\n",
      "made team\n",
      "made team\n",
      "made player\n",
      "made team\n",
      "made team\n",
      "made player\n",
      "made player\n",
      "made team\n",
      "made player\n",
      "made player\n",
      "made team\n"
     ]
    }
   ],
   "source": [
    "multiplayerdf = pd.DataFrame()\n",
    "multiteamdf = pd.DataFrame()\n",
    "for item in files:\n",
    "    if \"player\" in item:\n",
    "        singledf = pd.read_csv(item)\n",
    "        multiplayerdf = multiplayerdf.append(singledf)\n",
    "        print(\"made player\")\n",
    "    else:\n",
    "        singledf = pd.read_csv(item)\n",
    "        multiteamdf = multiteamdf.append(singledf)\n",
    "        print(\"made team\")\n",
    "multiplayerdf.to_csv(\"UseThisPlayerData.csv\",index = False)\n",
    "multiteamdf.to_csv(\"UseThisTeamData.csv\",index = False)"
   ]
  },
  {
   "cell_type": "code",
   "execution_count": null,
   "id": "0e82f88a",
   "metadata": {},
   "outputs": [],
   "source": []
  },
  {
   "cell_type": "code",
   "execution_count": null,
   "id": "15428430",
   "metadata": {},
   "outputs": [],
   "source": []
  },
  {
   "cell_type": "code",
   "execution_count": null,
   "id": "ce809b74",
   "metadata": {},
   "outputs": [],
   "source": []
  },
  {
   "cell_type": "code",
   "execution_count": null,
   "id": "cc23e972",
   "metadata": {},
   "outputs": [],
   "source": []
  },
  {
   "cell_type": "code",
   "execution_count": null,
   "id": "8303ab2d",
   "metadata": {},
   "outputs": [],
   "source": []
  },
  {
   "cell_type": "code",
   "execution_count": null,
   "id": "1ac6f883",
   "metadata": {},
   "outputs": [],
   "source": []
  }
 ],
 "metadata": {
  "kernelspec": {
   "display_name": "Python 3",
   "language": "python",
   "name": "python3"
  },
  "language_info": {
   "codemirror_mode": {
    "name": "ipython",
    "version": 3
   },
   "file_extension": ".py",
   "mimetype": "text/x-python",
   "name": "python",
   "nbconvert_exporter": "python",
   "pygments_lexer": "ipython3",
   "version": "3.8.8"
  }
 },
 "nbformat": 4,
 "nbformat_minor": 5
}
