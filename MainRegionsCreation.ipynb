{
 "cells": [
  {
   "cell_type": "markdown",
   "id": "ef0df9e5",
   "metadata": {},
   "source": [
    "This file creates the csv used for the Impact Score creation"
   ]
  },
  {
   "cell_type": "code",
   "execution_count": 1,
   "id": "a6d8f16d",
   "metadata": {},
   "outputs": [],
   "source": [
    "import pandas as pd\n",
    "import numpy as np\n",
    "import os"
   ]
  },
  {
   "cell_type": "code",
   "execution_count": 3,
   "id": "dfecd056",
   "metadata": {},
   "outputs": [],
   "source": [
    "#Use this file path for pc\n",
    "filepath = r\"D:\\gradschool\\Capstone\"\n",
    "#Use this file path for mac \n",
    "#filepath = r\"/Users/jacksonjoyner/Desktop/MSBA/Capstone/UseThisData/\"\n",
    "os.chdir(filepath)"
   ]
  },
  {
   "cell_type": "code",
   "execution_count": 5,
   "id": "3af0041e",
   "metadata": {},
   "outputs": [],
   "source": [
    "allplayerdf = pd.read_csv(\"AllPlayerData.csv\")"
   ]
  },
  {
   "cell_type": "code",
   "execution_count": null,
   "id": "a99f5307",
   "metadata": {},
   "outputs": [],
   "source": [
    "playerdf"
   ]
  },
  {
   "cell_type": "code",
   "execution_count": 7,
   "id": "fe88dd22",
   "metadata": {},
   "outputs": [],
   "source": [
    "leagueset = list(allplayerdf[\"league\"])\n",
    "leagueset = set(leagueset)\n",
    "dfuse = pd.DataFrame()\n",
    "league = [\"EU LCS\",'NA LCS','LCK','LPL','LEC','LCS']\n",
    "for item in league:\n",
    "    dfnew = allplayerdf[allplayerdf[\"league\"] == item]\n",
    "    dfuse = dfuse.append(dfnew)\n",
    "\n",
    "dfuse.to_csv(\"mainregions.csv\", index= False)"
   ]
  }
 ],
 "metadata": {
  "kernelspec": {
   "display_name": "Python 3",
   "language": "python",
   "name": "python3"
  },
  "language_info": {
   "codemirror_mode": {
    "name": "ipython",
    "version": 3
   },
   "file_extension": ".py",
   "mimetype": "text/x-python",
   "name": "python",
   "nbconvert_exporter": "python",
   "pygments_lexer": "ipython3",
   "version": "3.8.8"
  }
 },
 "nbformat": 4,
 "nbformat_minor": 5
}
