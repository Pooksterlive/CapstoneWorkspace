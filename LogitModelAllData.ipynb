{
 "cells": [
  {
   "cell_type": "code",
   "execution_count": 1,
   "id": "a6d8f16d",
   "metadata": {},
   "outputs": [],
   "source": [
    "import pandas as pd\n",
    "import numpy as np\n",
    "import os\n",
    "from sklearn.linear_model import LogisticRegression\n",
    "from sklearn.metrics import classification_report, confusion_matrix"
   ]
  },
  {
   "cell_type": "code",
   "execution_count": 2,
   "id": "dfecd056",
   "metadata": {},
   "outputs": [],
   "source": [
    "#Use this file path for pc\n",
    "filepath = r\"D:\\gradschool\\Capstone\\CapstoneWorkSpace6\\UseThisData\"\n",
    "#Use this file path for mac \n",
    "#filepath = r\"/Users/jacksonjoyner/Desktop/MSBA/Capstone/CapstoneWorkSpace6/UseThisData/\"\n",
    "os.chdir(filepath)"
   ]
  },
  {
   "cell_type": "code",
   "execution_count": 3,
   "id": "3af0041e",
   "metadata": {},
   "outputs": [
    {
     "name": "stderr",
     "output_type": "stream",
     "text": [
      "C:\\Users\\jacks\\anaconda3\\lib\\site-packages\\IPython\\core\\interactiveshell.py:3165: DtypeWarning: Columns (21,22) have mixed types.Specify dtype option on import or set low_memory=False.\n",
      "  has_raised = await self.run_ast_nodes(code_ast.body, cell_name,\n"
     ]
    }
   ],
   "source": [
    "playerdf = pd.read_csv(\"AllPlayerData.csv\")"
   ]
  },
  {
   "cell_type": "code",
   "execution_count": null,
   "id": "a99f5307",
   "metadata": {},
   "outputs": [],
   "source": [
    "playerdf"
   ]
  },
  {
   "cell_type": "code",
   "execution_count": 39,
   "id": "2784bf65",
   "metadata": {},
   "outputs": [],
   "source": [
    "gameids = list(playerdf[\"gameid\"])\n",
    "gameids = set(gameids)\n",
    "dfuse = pd.DataFrame()\n",
    "league = [\"EU LCS\",'NA LCS','LCK','LPL','LEC','LCS']\n",
    "for item in league:\n",
    "    dfnew = playerdf[playerdf[\"league\"] == item]\n",
    "\n",
    "    if dfnew.isnull().values.any == True:\n",
    "        print(\"We found a null, looking into that now\")\n",
    "        print(df.new.isnull().sum())\n",
    "    else:\n",
    "        dfuse = dfuse.append(dfnew) \n",
    "        continue\n"
   ]
  },
  {
   "cell_type": "markdown",
   "id": "6b232b8e",
   "metadata": {},
   "source": [
    "This chunk bellow is used to grab only the variables I will eventually use in the model, removing any rows with NA's. I wrote the "
   ]
  },
  {
   "cell_type": "code",
   "execution_count": 48,
   "id": "92dfee23",
   "metadata": {},
   "outputs": [],
   "source": [
    "variables = [\"kills\",\"deaths\",'assists','doublekills','triplekills','quadrakills','pentakills','firstbloodkill'\n",
    "             ,'firstbloodassist','firstbloodvictim','dpm','wpm','goldspent','total cs','minionkills','monsterkills',\n",
    "             'monsterkillsenemyjungle','goldat15','xpat15','csat15','golddiffat15','xpdiffat15',\n",
    "             'csdiffat15','killsat15','deathsat15','assistsat15','result']\n",
    "\n",
    "dfuses = dfuse[variables][dfuse[\"datacompleteness\"]== \"complete\"].dropna(how = \"any\")\n",
    "\n",
    "dfuses.to_csv(\"allyearsnonulls.csv\")"
   ]
  },
  {
   "cell_type": "code",
   "execution_count": 44,
   "id": "50395e99",
   "metadata": {},
   "outputs": [
    {
     "name": "stderr",
     "output_type": "stream",
     "text": [
      "<ipython-input-44-85acb702d17d>:7: UserWarning: Boolean Series key will be reindexed to match DataFrame index.\n",
      "  x = dfuses[variables][dfuse[\"datacompleteness\"]== \"complete\"]\n"
     ]
    }
   ],
   "source": [
    "variables = [\"kills\",\"deaths\",'assists','doublekills','triplekills','quadrakills','pentakills','firstbloodkill'\n",
    "             ,'firstbloodassist','firstbloodvictim','dpm','wpm','goldspent','total cs','minionkills','monsterkills',\n",
    "             'monsterkillsenemyjungle','goldat15','xpat15','csat15','golddiffat15','xpdiffat15',\n",
    "             'csdiffat15','killsat15','deathsat15','assistsat15']\n",
    "result = \"result\"\n",
    "\n",
    "x = dfuses[variables][dfuse[\"datacompleteness\"]== \"complete\"]\n",
    "y = dfuses[\"result\"][dfuse[\"datacompleteness\"]== \"complete\"]"
   ]
  },
  {
   "cell_type": "code",
   "execution_count": null,
   "id": "aa4e770b",
   "metadata": {},
   "outputs": [],
   "source": [
    "x.isnull().sum()"
   ]
  },
  {
   "cell_type": "code",
   "execution_count": null,
   "id": "9b3d99d7",
   "metadata": {},
   "outputs": [],
   "source": [
    "y.value_counts()"
   ]
  },
  {
   "cell_type": "code",
   "execution_count": 45,
   "id": "19de62db",
   "metadata": {},
   "outputs": [],
   "source": [
    "from sklearn.model_selection import train_test_split\n",
    "x_train,x_test,y_train,y_test=train_test_split(x,y,test_size=0.25,random_state=0)"
   ]
  },
  {
   "cell_type": "code",
   "execution_count": 46,
   "id": "559af9a5",
   "metadata": {},
   "outputs": [
    {
     "data": {
      "text/plain": [
       "(array([[ 5.40241542e-01, -1.17387891e+00,  6.11673767e-01,\n",
       "          2.19398111e-01,  7.23929849e-02,  1.50514602e-02,\n",
       "          2.71026073e-03, -4.09201421e-02, -2.93680410e-02,\n",
       "          2.57996479e-01, -1.74216870e-03,  7.21531860e-02,\n",
       "         -1.48014679e-04,  7.73223769e-04,  1.31562628e-03,\n",
       "         -5.42402514e-04,  3.54558176e-02, -3.64485803e-04,\n",
       "          1.39773906e-04,  7.87386224e-03,  1.13727458e-03,\n",
       "          4.71009176e-05, -1.28295488e-02, -4.67577516e-01,\n",
       "          1.13771438e+00, -4.70093885e-01]]),\n",
       " array([0.00257638]))"
      ]
     },
     "execution_count": 46,
     "metadata": {},
     "output_type": "execute_result"
    }
   ],
   "source": [
    "# import the class\n",
    "from sklearn.linear_model import LogisticRegression\n",
    "\n",
    "# instantiate the model (using the default parameters)\n",
    "logreg = LogisticRegression(max_iter = 100000)\n",
    "\n",
    "# fit the model with data\n",
    "logreg = logreg.fit(x_train,y_train)\n",
    "\n",
    "#\n",
    "y_pred=logreg.predict(x_test)\n",
    "logreg.coef_, logreg.intercept_\n",
    "#talk in odds multipliers"
   ]
  },
  {
   "cell_type": "code",
   "execution_count": 47,
   "id": "d74f86a3",
   "metadata": {},
   "outputs": [
    {
     "data": {
      "text/html": [
       "<div>\n",
       "<style scoped>\n",
       "    .dataframe tbody tr th:only-of-type {\n",
       "        vertical-align: middle;\n",
       "    }\n",
       "\n",
       "    .dataframe tbody tr th {\n",
       "        vertical-align: top;\n",
       "    }\n",
       "\n",
       "    .dataframe thead th {\n",
       "        text-align: right;\n",
       "    }\n",
       "</style>\n",
       "<table border=\"1\" class=\"dataframe\">\n",
       "  <thead>\n",
       "    <tr style=\"text-align: right;\">\n",
       "      <th></th>\n",
       "      <th>Var</th>\n",
       "      <th>coef</th>\n",
       "      <th>exp_coef</th>\n",
       "    </tr>\n",
       "  </thead>\n",
       "  <tbody>\n",
       "    <tr>\n",
       "      <th>1</th>\n",
       "      <td>deaths</td>\n",
       "      <td>-1.173879</td>\n",
       "      <td>0.309165</td>\n",
       "    </tr>\n",
       "    <tr>\n",
       "      <th>25</th>\n",
       "      <td>assistsat15</td>\n",
       "      <td>-0.470094</td>\n",
       "      <td>0.624944</td>\n",
       "    </tr>\n",
       "    <tr>\n",
       "      <th>23</th>\n",
       "      <td>killsat15</td>\n",
       "      <td>-0.467578</td>\n",
       "      <td>0.626518</td>\n",
       "    </tr>\n",
       "    <tr>\n",
       "      <th>7</th>\n",
       "      <td>firstbloodkill</td>\n",
       "      <td>-0.040920</td>\n",
       "      <td>0.959906</td>\n",
       "    </tr>\n",
       "    <tr>\n",
       "      <th>8</th>\n",
       "      <td>firstbloodassist</td>\n",
       "      <td>-0.029368</td>\n",
       "      <td>0.971059</td>\n",
       "    </tr>\n",
       "    <tr>\n",
       "      <th>22</th>\n",
       "      <td>csdiffat15</td>\n",
       "      <td>-0.012830</td>\n",
       "      <td>0.987252</td>\n",
       "    </tr>\n",
       "    <tr>\n",
       "      <th>10</th>\n",
       "      <td>dpm</td>\n",
       "      <td>-0.001742</td>\n",
       "      <td>0.998259</td>\n",
       "    </tr>\n",
       "    <tr>\n",
       "      <th>15</th>\n",
       "      <td>monsterkills</td>\n",
       "      <td>-0.000542</td>\n",
       "      <td>0.999458</td>\n",
       "    </tr>\n",
       "    <tr>\n",
       "      <th>17</th>\n",
       "      <td>goldat15</td>\n",
       "      <td>-0.000364</td>\n",
       "      <td>0.999636</td>\n",
       "    </tr>\n",
       "    <tr>\n",
       "      <th>12</th>\n",
       "      <td>goldspent</td>\n",
       "      <td>-0.000148</td>\n",
       "      <td>0.999852</td>\n",
       "    </tr>\n",
       "    <tr>\n",
       "      <th>21</th>\n",
       "      <td>xpdiffat15</td>\n",
       "      <td>0.000047</td>\n",
       "      <td>1.000047</td>\n",
       "    </tr>\n",
       "    <tr>\n",
       "      <th>18</th>\n",
       "      <td>xpat15</td>\n",
       "      <td>0.000140</td>\n",
       "      <td>1.000140</td>\n",
       "    </tr>\n",
       "    <tr>\n",
       "      <th>13</th>\n",
       "      <td>total cs</td>\n",
       "      <td>0.000773</td>\n",
       "      <td>1.000774</td>\n",
       "    </tr>\n",
       "    <tr>\n",
       "      <th>20</th>\n",
       "      <td>golddiffat15</td>\n",
       "      <td>0.001137</td>\n",
       "      <td>1.001138</td>\n",
       "    </tr>\n",
       "    <tr>\n",
       "      <th>14</th>\n",
       "      <td>minionkills</td>\n",
       "      <td>0.001316</td>\n",
       "      <td>1.001316</td>\n",
       "    </tr>\n",
       "    <tr>\n",
       "      <th>6</th>\n",
       "      <td>pentakills</td>\n",
       "      <td>0.002710</td>\n",
       "      <td>1.002714</td>\n",
       "    </tr>\n",
       "    <tr>\n",
       "      <th>19</th>\n",
       "      <td>csat15</td>\n",
       "      <td>0.007874</td>\n",
       "      <td>1.007905</td>\n",
       "    </tr>\n",
       "    <tr>\n",
       "      <th>5</th>\n",
       "      <td>quadrakills</td>\n",
       "      <td>0.015051</td>\n",
       "      <td>1.015165</td>\n",
       "    </tr>\n",
       "    <tr>\n",
       "      <th>16</th>\n",
       "      <td>monsterkillsenemyjungle</td>\n",
       "      <td>0.035456</td>\n",
       "      <td>1.036092</td>\n",
       "    </tr>\n",
       "    <tr>\n",
       "      <th>11</th>\n",
       "      <td>wpm</td>\n",
       "      <td>0.072153</td>\n",
       "      <td>1.074820</td>\n",
       "    </tr>\n",
       "    <tr>\n",
       "      <th>4</th>\n",
       "      <td>triplekills</td>\n",
       "      <td>0.072393</td>\n",
       "      <td>1.075078</td>\n",
       "    </tr>\n",
       "    <tr>\n",
       "      <th>3</th>\n",
       "      <td>doublekills</td>\n",
       "      <td>0.219398</td>\n",
       "      <td>1.245327</td>\n",
       "    </tr>\n",
       "    <tr>\n",
       "      <th>9</th>\n",
       "      <td>firstbloodvictim</td>\n",
       "      <td>0.257996</td>\n",
       "      <td>1.294334</td>\n",
       "    </tr>\n",
       "    <tr>\n",
       "      <th>0</th>\n",
       "      <td>kills</td>\n",
       "      <td>0.540242</td>\n",
       "      <td>1.716421</td>\n",
       "    </tr>\n",
       "    <tr>\n",
       "      <th>2</th>\n",
       "      <td>assists</td>\n",
       "      <td>0.611674</td>\n",
       "      <td>1.843514</td>\n",
       "    </tr>\n",
       "    <tr>\n",
       "      <th>24</th>\n",
       "      <td>deathsat15</td>\n",
       "      <td>1.137714</td>\n",
       "      <td>3.119630</td>\n",
       "    </tr>\n",
       "  </tbody>\n",
       "</table>\n",
       "</div>"
      ],
      "text/plain": [
       "                        Var      coef  exp_coef\n",
       "1                    deaths -1.173879  0.309165\n",
       "25              assistsat15 -0.470094  0.624944\n",
       "23                killsat15 -0.467578  0.626518\n",
       "7            firstbloodkill -0.040920  0.959906\n",
       "8          firstbloodassist -0.029368  0.971059\n",
       "22               csdiffat15 -0.012830  0.987252\n",
       "10                      dpm -0.001742  0.998259\n",
       "15             monsterkills -0.000542  0.999458\n",
       "17                 goldat15 -0.000364  0.999636\n",
       "12                goldspent -0.000148  0.999852\n",
       "21               xpdiffat15  0.000047  1.000047\n",
       "18                   xpat15  0.000140  1.000140\n",
       "13                 total cs  0.000773  1.000774\n",
       "20             golddiffat15  0.001137  1.001138\n",
       "14              minionkills  0.001316  1.001316\n",
       "6                pentakills  0.002710  1.002714\n",
       "19                   csat15  0.007874  1.007905\n",
       "5               quadrakills  0.015051  1.015165\n",
       "16  monsterkillsenemyjungle  0.035456  1.036092\n",
       "11                      wpm  0.072153  1.074820\n",
       "4               triplekills  0.072393  1.075078\n",
       "3               doublekills  0.219398  1.245327\n",
       "9          firstbloodvictim  0.257996  1.294334\n",
       "0                     kills  0.540242  1.716421\n",
       "2                   assists  0.611674  1.843514\n",
       "24               deathsat15  1.137714  3.119630"
      ]
     },
     "execution_count": 47,
     "metadata": {},
     "output_type": "execute_result"
    }
   ],
   "source": [
    "dftest = pd.DataFrame()\n",
    "dftest[\"Var\"] = variables\n",
    "dftest[\"coef\"] = logreg.coef_.tolist().pop()\n",
    "dftest[\"exp_coef\"] = np.exp(dftest[\"coef\"])\n",
    "dftest.sort_values(by=[\"coef\"])"
   ]
  },
  {
   "cell_type": "code",
   "execution_count": null,
   "id": "a5d3d5d6",
   "metadata": {},
   "outputs": [],
   "source": []
  },
  {
   "cell_type": "code",
   "execution_count": null,
   "id": "4975b80f",
   "metadata": {},
   "outputs": [],
   "source": []
  },
  {
   "cell_type": "code",
   "execution_count": null,
   "id": "fe88dd22",
   "metadata": {},
   "outputs": [],
   "source": []
  }
 ],
 "metadata": {
  "kernelspec": {
   "display_name": "Python 3",
   "language": "python",
   "name": "python3"
  },
  "language_info": {
   "codemirror_mode": {
    "name": "ipython",
    "version": 3
   },
   "file_extension": ".py",
   "mimetype": "text/x-python",
   "name": "python",
   "nbconvert_exporter": "python",
   "pygments_lexer": "ipython3",
   "version": "3.8.8"
  }
 },
 "nbformat": 4,
 "nbformat_minor": 5
}
