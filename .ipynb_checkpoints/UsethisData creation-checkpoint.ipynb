{
 "cells": [
  {
   "cell_type": "code",
   "execution_count": 2,
   "id": "e0881d45",
   "metadata": {},
   "outputs": [],
   "source": [
    "import pandas as pd\n",
    "import numpy as np\n",
    "import os\n"
   ]
  },
  {
   "cell_type": "code",
   "execution_count": 3,
   "id": "e12a7a05",
   "metadata": {},
   "outputs": [],
   "source": [
    "#Use this file path for pc\n",
    "#filepath = r\"D:\\gradschool\\Capstone\\CapstoneWorkSpace6\\UseThisData\"\n",
    "#Use this file path for mac \n",
    "filepath = r\"/Users/jacksonjoyner/Desktop/MSBA/Capstone/UseThisData/\"\n",
    "os.chdir(filepath)"
   ]
  },
  {
   "cell_type": "code",
   "execution_count": 15,
   "id": "d2a9f23e",
   "metadata": {},
   "outputs": [],
   "source": [
    "files = []\n",
    "location = os.listdir(filepath)\n",
    "for item in location:\n",
    "    files.append(item)\n",
    "files.remove(\".Rhistory\")"
   ]
  },
  {
   "cell_type": "code",
   "execution_count": 21,
   "id": "62fe5efb",
   "metadata": {},
   "outputs": [
    {
     "name": "stdout",
     "output_type": "stream",
     "text": [
      "made player\n",
      "made player\n",
      "made team\n",
      "made team\n",
      "made player\n",
      "made team\n",
      "made team\n",
      "made player\n",
      "made team\n",
      "made team\n",
      "made player\n",
      "made player\n",
      "made team\n",
      "made player\n",
      "made player\n",
      "made team\n"
     ]
    }
   ],
   "source": [
    "multiplayerdf = pd.DataFrame()\n",
    "multiteamdf = pd.DataFrame()\n",
    "for item in files:\n",
    "    if \"player\" in item:\n",
    "        singledf = pd.read_csv(item)\n",
    "        multiplayerdf = multiplayerdf.append(singledf)\n",
    "        print(\"made player\")\n",
    "    else:\n",
    "        singledf = pd.read_csv(item)\n",
    "        multiteamdf = multiteamdf.append(singledf)\n",
    "        print(\"made team\")\n",
    "multiplayerdf.to_csv(\"UseThisPlayerData.csv\")\n",
    "multiteamdf.to_csv(\"UseThisTeamData.csv\")"
   ]
  },
  {
   "cell_type": "code",
   "execution_count": null,
   "id": "51926274",
   "metadata": {},
   "outputs": [],
   "source": []
  },
  {
   "cell_type": "code",
   "execution_count": null,
   "id": "ed311598",
   "metadata": {},
   "outputs": [],
   "source": []
  },
  {
   "cell_type": "code",
   "execution_count": null,
   "id": "23566f3c",
   "metadata": {},
   "outputs": [],
   "source": []
  },
  {
   "cell_type": "code",
   "execution_count": null,
   "id": "bb90f9bf",
   "metadata": {},
   "outputs": [],
   "source": []
  },
  {
   "cell_type": "code",
   "execution_count": null,
   "id": "4ee49cc4",
   "metadata": {},
   "outputs": [],
   "source": []
  },
  {
   "cell_type": "code",
   "execution_count": null,
   "id": "a2884120",
   "metadata": {},
   "outputs": [],
   "source": []
  }
 ],
 "metadata": {
  "kernelspec": {
   "display_name": "Python 3",
   "language": "python",
   "name": "python3"
  },
  "language_info": {
   "codemirror_mode": {
    "name": "ipython",
    "version": 3
   },
   "file_extension": ".py",
   "mimetype": "text/x-python",
   "name": "python",
   "nbconvert_exporter": "python",
   "pygments_lexer": "ipython3",
   "version": "3.8.8"
  }
 },
 "nbformat": 4,
 "nbformat_minor": 5
}
