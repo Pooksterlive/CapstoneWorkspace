{
 "cells": [
  {
   "cell_type": "code",
   "execution_count": 1,
   "id": "b03591d3",
   "metadata": {},
   "outputs": [],
   "source": [
    "import pandas as pd\n",
    "import numpy as np\n",
    "import os\n",
    "from sklearn.linear_model import LogisticRegression\n",
    "from sklearn.metrics import classification_report, confusion_matrix\n",
    "from sklearn.model_selection import train_test_split\n",
    "from sklearn.linear_model import LogisticRegression\n",
    "import statsmodels.api as sm\n",
    "from statsmodels.stats.outliers_influence import variance_inflation_factor"
   ]
  },
  {
   "cell_type": "code",
   "execution_count": 2,
   "id": "f83af7a2",
   "metadata": {},
   "outputs": [],
   "source": [
    "#Use this file path for pc\n",
    "filepath = r\"D:\\gradschool\\Capstone\"\n",
    "#Use this file path for mac \n",
    "# filepath = r\"/Users/jacksonjoyner/Desktop/MSBA/Capstone/UseThisData/\"\n",
    "os.chdir(filepath)"
   ]
  },
  {
   "cell_type": "code",
   "execution_count": 15,
   "id": "87fab108",
   "metadata": {},
   "outputs": [
    {
     "data": {
      "text/plain": [
       "0         307.0\n",
       "1         138.0\n",
       "2         361.0\n",
       "3         333.0\n",
       "4          33.0\n",
       "          ...  \n",
       "497559    290.0\n",
       "497560    202.0\n",
       "497561    347.0\n",
       "497562     59.0\n",
       "497563    222.0\n",
       "Name: total_cs, Length: 497564, dtype: float64"
      ]
     },
     "execution_count": 15,
     "metadata": {},
     "output_type": "execute_result"
    }
   ],
   "source": [
    "playerdf = pd.read_csv(\"ImpactScoreData.csv\")\n",
    "playerdf = playerdf.rename(columns ={\"total cs\" : \"total_cs\"})\n",
    "playerdf[\"total_cs\"]"
   ]
  },
  {
   "cell_type": "code",
   "execution_count": 16,
   "id": "60a9f839",
   "metadata": {},
   "outputs": [],
   "source": [
    "variables = [\"playername\",'position','teamname',\"kills\",\"deaths\",'assists','doublekills','triplekills','quadrakills','pentakills','firstbloodkill'\n",
    "             ,'firstbloodassist','firstbloodvictim','dpm','wpm','goldspent','total_cs','minionkills','monsterkills',\n",
    "             'monsterkillsenemyjungle','goldat15','xpat15','csat15','golddiffat15','xpdiffat15',\n",
    "             'csdiffat15','killsat15','deathsat15','assistsat15','result','impactscore','KDA','KP','D%',\"earnedgoldshare\",\n",
    "            'damageshare','cspm','damagetakenperminute']\n",
    "\n",
    "dfuses = playerdf[variables][playerdf[\"datacompleteness\"]== \"complete\"].dropna(how = \"any\")\n",
    "dfuses.to_csv(\"nonullimpact.csv\",index = False)\n",
    "\n",
    "#dfuses.to_csv(\"allyearsnonulls.csv\")"
   ]
  },
  {
   "cell_type": "markdown",
   "id": "4238f3ab",
   "metadata": {},
   "source": [
    "From testing, this is the most accurate model I can create"
   ]
  },
  {
   "cell_type": "code",
   "execution_count": 17,
   "id": "30dde0e9",
   "metadata": {},
   "outputs": [],
   "source": [
    "variables = ['kills','deaths','assists','total_cs','earnedgoldshare', 'damageshare','dpm','cspm']\n",
    "x = dfuses[variables].to_numpy() \n",
    "y = dfuses[\"result\"]"
   ]
  },
  {
   "cell_type": "code",
   "execution_count": 6,
   "id": "e278f4dd",
   "metadata": {},
   "outputs": [],
   "source": [
    "x_train,x_test,y_train,y_test=train_test_split(x,y,test_size=0.25,random_state=0)"
   ]
  },
  {
   "cell_type": "code",
   "execution_count": 7,
   "id": "e0c0aeaa",
   "metadata": {},
   "outputs": [],
   "source": [
    "# instantiate the model (using the default parameters)\n",
    "logreg = LogisticRegression(max_iter = 100000)"
   ]
  },
  {
   "cell_type": "code",
   "execution_count": 9,
   "id": "d3fa14bb",
   "metadata": {},
   "outputs": [
    {
     "data": {
      "text/plain": [
       "(array([[ 6.48588825e-01, -9.33978440e-01,  4.45216842e-01,\n",
       "         -7.47554526e-03, -3.76493714e+01, -8.53703004e+00,\n",
       "          2.23681085e-03,  9.85762472e-01]]),\n",
       " array([1.88730459]))"
      ]
     },
     "execution_count": 9,
     "metadata": {},
     "output_type": "execute_result"
    }
   ],
   "source": [
    "# fit the model with data\n",
    "logreg = logreg.fit(x_train,y_train)\n",
    "\n",
    "#\n",
    "y_pred=logreg.predict(x_test)\n",
    "logreg.coef_, logreg.intercept_"
   ]
  },
  {
   "cell_type": "code",
   "execution_count": 9,
   "id": "219ade7f",
   "metadata": {},
   "outputs": [
    {
     "data": {
      "text/plain": [
       "0.8922474997701525"
      ]
     },
     "execution_count": 9,
     "metadata": {},
     "output_type": "execute_result"
    }
   ],
   "source": [
    "logreg.score(x_test,y_test)"
   ]
  },
  {
   "cell_type": "code",
   "execution_count": 129,
   "id": "b705f8a8",
   "metadata": {},
   "outputs": [
    {
     "data": {
      "text/plain": [
       "array([1, 0, 1, ..., 0, 1, 1], dtype=int64)"
      ]
     },
     "execution_count": 129,
     "metadata": {},
     "output_type": "execute_result"
    }
   ],
   "source": [
    "y_pred"
   ]
  },
  {
   "cell_type": "code",
   "execution_count": 11,
   "id": "cc6e3c95",
   "metadata": {
    "scrolled": true
   },
   "outputs": [
    {
     "name": "stdout",
     "output_type": "stream",
     "text": [
      "                            OLS Regression Results                            \n",
      "==============================================================================\n",
      "Dep. Variable:                 result   R-squared:                       0.592\n",
      "Model:                            OLS   Adj. R-squared:                  0.592\n",
      "Method:                 Least Squares   F-statistic:                 5.323e+04\n",
      "Date:                Mon, 07 Mar 2022   Prob (F-statistic):               0.00\n",
      "Time:                        17:41:49   Log-Likelihood:                -81560.\n",
      "No. Observations:              293671   AIC:                         1.631e+05\n",
      "Df Residuals:                  293662   BIC:                         1.632e+05\n",
      "Df Model:                           8                                         \n",
      "Covariance Type:            nonrobust                                         \n",
      "==============================================================================\n",
      "                 coef    std err          t      P>|t|      [0.025      0.975]\n",
      "------------------------------------------------------------------------------\n",
      "const          0.6919      0.003    213.851      0.000       0.686       0.698\n",
      "x1             0.0705      0.000    204.655      0.000       0.070       0.071\n",
      "x2            -0.0999      0.000   -305.422      0.000      -0.101      -0.099\n",
      "x3             0.0500      0.000    291.040      0.000       0.050       0.050\n",
      "x4            -0.0008    1.3e-05    -59.506      0.000      -0.001      -0.001\n",
      "x5            -4.2408      0.027   -154.221      0.000      -4.295      -4.187\n",
      "x6            -0.7375      0.016    -44.941      0.000      -0.770      -0.705\n",
      "x7             0.0002   7.25e-06     24.539      0.000       0.000       0.000\n",
      "x8             0.1075      0.001    165.364      0.000       0.106       0.109\n",
      "==============================================================================\n",
      "Omnibus:                       30.676   Durbin-Watson:                   2.003\n",
      "Prob(Omnibus):                  0.000   Jarque-Bera (JB):               29.267\n",
      "Skew:                           0.002   Prob(JB):                     4.41e-07\n",
      "Kurtosis:                       2.951   Cond. No.                     2.37e+04\n",
      "==============================================================================\n",
      "\n",
      "Notes:\n",
      "[1] Standard Errors assume that the covariance matrix of the errors is correctly specified.\n",
      "[2] The condition number is large, 2.37e+04. This might indicate that there are\n",
      "strong multicollinearity or other numerical problems.\n"
     ]
    }
   ],
   "source": [
    "#https://www.datasklr.com/ols-least-squares-regression/multicollinearity\n",
    "model = sm.OLS(y_train, sm.add_constant(x_train)).fit()\n",
    "Y_pred = model.predict(sm.add_constant(x_test))\n",
    "print_model = model.summary()\n",
    "print(print_model)"
   ]
  },
  {
   "cell_type": "code",
   "execution_count": null,
   "id": "25006a89",
   "metadata": {},
   "outputs": [],
   "source": []
  },
  {
   "cell_type": "code",
   "execution_count": null,
   "id": "92a6d63a",
   "metadata": {},
   "outputs": [],
   "source": []
  },
  {
   "cell_type": "code",
   "execution_count": null,
   "id": "61d921c4",
   "metadata": {},
   "outputs": [],
   "source": []
  },
  {
   "cell_type": "code",
   "execution_count": null,
   "id": "f91394a8",
   "metadata": {},
   "outputs": [],
   "source": []
  }
 ],
 "metadata": {
  "kernelspec": {
   "display_name": "Python 3",
   "language": "python",
   "name": "python3"
  },
  "language_info": {
   "codemirror_mode": {
    "name": "ipython",
    "version": 3
   },
   "file_extension": ".py",
   "mimetype": "text/x-python",
   "name": "python",
   "nbconvert_exporter": "python",
   "pygments_lexer": "ipython3",
   "version": "3.8.8"
  }
 },
 "nbformat": 4,
 "nbformat_minor": 5
}
