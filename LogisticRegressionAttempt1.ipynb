{
 "cells": [
  {
   "cell_type": "code",
   "execution_count": null,
   "id": "b03591d3",
   "metadata": {},
   "outputs": [],
   "source": [
    "import pandas as pd\n",
    "import numpy as np\n",
    "import os\n",
    "from sklearn.linear_model import LogisticRegression\n",
    "from sklearn.metrics import classification_report, confusion_matrix"
   ]
  },
  {
   "cell_type": "code",
   "execution_count": null,
   "id": "f83af7a2",
   "metadata": {},
   "outputs": [],
   "source": [
    "#Use this file path for pc\n",
    "filepath = r\"D:\\gradschool\\Capstone\\CapstoneWorkSpace6\\UseThisData\"\n",
    "#Use this file path for mac \n",
    "#filepath = r\"/Users/jacksonjoyner/Desktop/MSBA/Capstone/CapstoneWorkSpace6/UseThisData/\"\n",
    "os.chdir(filepath)"
   ]
  },
  {
   "cell_type": "code",
   "execution_count": null,
   "id": "9a290f37",
   "metadata": {},
   "outputs": [],
   "source": [
    "files = []\n",
    "location = os.listdir(filepath)\n",
    "for item in location:\n",
    "    files.append(item)"
   ]
  },
  {
   "cell_type": "code",
   "execution_count": null,
   "id": "d4023d19",
   "metadata": {},
   "outputs": [],
   "source": [
    "file = files[6]\n",
    "df = pd.read_csv(file)\n",
    "df.head()\n",
    "nas = df.isnull().sum()\n",
    "nas"
   ]
  },
  {
   "cell_type": "code",
   "execution_count": null,
   "id": "4f778277",
   "metadata": {},
   "outputs": [],
   "source": [
    "idset = list(df[\"league\"])\n",
    "idset = set(idset)\n",
    "dfuse = pd.DataFrame()\n",
    "league = [\"EU LCS\",'NA LCS','LCK','LPL','LEC','LCS']\n",
    "for item in league:\n",
    "    dfnew = df[df[\"league\"] == item]\n",
    "\n",
    "    if dfnew.isnull().values.any == True:\n",
    "        print(\"We found a null, looking into that now\")\n",
    "        print(df.new.isnull().sum())\n",
    "    else:\n",
    "        dfuse = dfuse.append(dfnew) \n",
    "        continue\n",
    "dfuse"
   ]
  },
  {
   "cell_type": "code",
   "execution_count": null,
   "id": "3739fe37",
   "metadata": {},
   "outputs": [],
   "source": [
    "dfnew"
   ]
  },
  {
   "cell_type": "code",
   "execution_count": null,
   "id": "30dde0e9",
   "metadata": {},
   "outputs": [],
   "source": [
    "variables = [\"kills\",\"deaths\",'assists','doublekills','triplekills','quadrakills','pentakills','firstbloodkill'\n",
    "             ,'firstbloodassist','firstbloodvictim','dpm','wpm','goldspent','total cs','minionkills','monsterkills',\n",
    "             'monsterkillsenemyjungle','goldat15','xpat15','csat15','golddiffat15','xpdiffat15',\n",
    "             'csdiffat15','killsat15','deathsat15','assistsat15']\n",
    "result = \"result\"\n",
    "\n",
    "x = dfuse[variables][dfuse[\"datacompleteness\"]== \"complete\"]\n",
    "y = dfuse[\"result\"][dfuse[\"datacompleteness\"]== \"complete\"]"
   ]
  },
  {
   "cell_type": "code",
   "execution_count": null,
   "id": "bc7c1309",
   "metadata": {},
   "outputs": [],
   "source": [
    "dfuse[\"datacompleteness\"].value_counts()\n",
    "x.shape\n",
    "x.columns[x.isnull().any()]\n",
    "#dfuse[dfuse[\"doublekills\"].isnull()]\n",
    "\n"
   ]
  },
  {
   "cell_type": "code",
   "execution_count": null,
   "id": "008da678",
   "metadata": {},
   "outputs": [],
   "source": [
    "from sklearn.model_selection import train_test_split\n",
    "x_train,x_test,y_train,y_test=train_test_split(x,y,test_size=0.25,random_state=0)"
   ]
  },
  {
   "cell_type": "code",
   "execution_count": null,
   "id": "e0c0aeaa",
   "metadata": {},
   "outputs": [],
   "source": [
    "# import the class\n",
    "from sklearn.linear_model import LogisticRegression\n",
    "\n",
    "# instantiate the model (using the default parameters)\n",
    "logreg = LogisticRegression(max_iter = 100000)\n",
    "\n",
    "# fit the model with data\n",
    "logreg = logreg.fit(x_train,y_train)\n",
    "\n",
    "#\n",
    "y_pred=logreg.predict(x_test)\n",
    "logreg.coef_, logreg.intercept_\n",
    "#talk in odds multipliers"
   ]
  },
  {
   "cell_type": "code",
   "execution_count": null,
   "id": "b95a9cd4",
   "metadata": {},
   "outputs": [],
   "source": [
    "variables = [\"kills\",\"deaths\",'assists','doublekills','triplekills','quadrakills','pentakills','firstbloodkill'\n",
    "             ,'firstbloodassist','firstbloodvictim','dpm','wpm','goldspent','total cs','minionkills','monsterkills',\n",
    "             'monsterkillsenemyjungle','goldat15','xpat15','csat15','golddiffat15','xpdiffat15',\n",
    "             'csdiffat15','killsat15','deathsat15','assistsat15']"
   ]
  },
  {
   "cell_type": "code",
   "execution_count": null,
   "id": "219ade7f",
   "metadata": {
    "scrolled": true
   },
   "outputs": [],
   "source": [
    "logreg.score(x_test,y_test)"
   ]
  },
  {
   "cell_type": "code",
   "execution_count": null,
   "id": "317622d6",
   "metadata": {},
   "outputs": [],
   "source": [
    "logreg.coef_.tolist().pop()"
   ]
  },
  {
   "cell_type": "code",
   "execution_count": null,
   "id": "cba6d30f",
   "metadata": {},
   "outputs": [],
   "source": []
  },
  {
   "cell_type": "code",
   "execution_count": null,
   "id": "cc6e3c95",
   "metadata": {},
   "outputs": [],
   "source": [
    "dftest = pd.DataFrame()\n",
    "dftest[\"Var\"] = variables\n",
    "dftest[\"coef\"] = logreg.coef_.tolist().pop()\n",
    "dftest[\"exp_coef\"] = np.exp(dftest[\"coef\"])\n",
    "dftest.sort_values(by=[\"coef\"])"
   ]
  }
 ],
 "metadata": {
  "kernelspec": {
   "display_name": "Python 3",
   "language": "python",
   "name": "python3"
  },
  "language_info": {
   "codemirror_mode": {
    "name": "ipython",
    "version": 3
   },
   "file_extension": ".py",
   "mimetype": "text/x-python",
   "name": "python",
   "nbconvert_exporter": "python",
   "pygments_lexer": "ipython3",
   "version": "3.8.8"
  }
 },
 "nbformat": 4,
 "nbformat_minor": 5
}
